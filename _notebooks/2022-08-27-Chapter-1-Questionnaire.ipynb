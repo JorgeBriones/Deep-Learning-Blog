{
  "nbformat": 4,
  "nbformat_minor": 0,
  "metadata": {
    "colab": {
      "name": "Chapter1Questionnaire.ipynb",
      "provenance": [],
      "collapsed_sections": [
        "CeRywsq6rrN1"
      ]
    },
    "kernelspec": {
      "name": "python3",
      "display_name": "Python 3"
    },
    "language_info": {
      "name": "python"
    }
  },
  "cells": [
    {
      "cell_type": "markdown",
      "source": [
        "# \"Chapter 1 Questionnaire\"\n",
        "> \"My answers to chapter 1 Questions.\"\n",
        "\n",
        "- toc: false\n",
        "- branch: master\n",
        "- badges: true\n",
        "- comments: false\n",
        "- categories: [fastpages, jupyter]\n",
        "- hide: false\n",
        "- search_exclude: true\n",
        "- metadata_key1: metadata_value1\n",
        "- metadata_key2: metadata_value2"
      ],
      "metadata": {
        "id": "CeRywsq6rrN1"
      }
    },
    {
      "cell_type": "markdown",
      "source": [
        "\n",
        "\n",
        "---\n",
        "\n"
      ],
      "metadata": {
        "id": "cTuGoc_yhZxt"
      }
    },
    {
      "cell_type": "markdown",
      "source": [
        "![](my_icons/SamuelModel.png \"Arthur Samuel's view of a machine learning model\")"
      ],
      "metadata": {
        "id": "u75IybUGRsSP"
      }
    },
    {
      "cell_type": "markdown",
      "source": [
        "\n",
        "\n",
        "---\n",
        "\n"
      ],
      "metadata": {
        "id": "w9U5ipboSWTi"
      }
    },
    {
      "cell_type": "markdown",
      "source": [
        "# **Chapter 1 Questionnaire**"
      ],
      "metadata": {
        "id": "il_yJgOA3bFE"
      }
    },
    {
      "cell_type": "markdown",
      "source": [
        "1. Do you need these for deep learning?\n",
        "  *   Lots of Math T/F: \n",
        "      * **False, High school math is sufficient.**\n",
        "  *   Lots of Data T/F: \n",
        "      * **False, Record breaking results have been seen with <50 items of data.** \n",
        "  *   Lots of expensive computers T/F:\n",
        "      * **You can get what you need for state of the art work for free.**\n",
        "  *   A PhD T/F:  \n",
        "    * **False, no formal training is necessary.**\n",
        "  \n",
        "2. Name five areas where deep learning is now the best in the world.\n",
        " > **Natural language processing, computer vision, medicine, biology, image generation.  Other areas also include recommendation systems, playing games, robotics, and other applications such as financial and logistical forecasting, text to speech and much more.**\n",
        " \n",
        "3. What was the name of the first device that was based on the principle of the artificial neuron?\n",
        "> **A psychologist names Frank Rosentblatt worked on building the first artifical neuron device called the Mark I Perceptron.**\n",
        "\n",
        "4. Based on the book of the same name, what are the requirements for parallel distributed processing (PDP)?\n",
        "> **The requirements for parallel distrubuted processing require the following:**\n",
        "  * **A set of *processing units*** \n",
        "  * **A *state of activation***  \n",
        "  * **An *output function* for each unit**\n",
        "  * **A *pattern of connectivity* among units**\n",
        "  * **A *propagation rule* for propagating patterns of activities through the network of connectivities**\n",
        "  * **An *activation rule* for combining the inputs impinging on a unit with the current state of that unit to produce an output for the unit**\n",
        "  * **A *learning rule* whereby patterns of connectivity are modified by experience**\n",
        "  * **An *environment* within which the systems must operate**\n",
        "\n",
        "5. What were the two theoretical misunderstandings that held back the field of neural networks?\n",
        "> **The first theoretical misunderstanding came from the global academic community who essentially gave up on neural networks.  This happened because of the misunderstanding of the book *Perceptrons* (MIT Press) by Marvin Minsky and Seymour Papert.  Minsky and Papert showed that that a single layer of perceptrons was unable to learn some simple but critical mathematical functions(such as XOR).  This is what the community took away from the book, what they missed was that Minsky and Papert in the book showed that using multiple layers of the perceptrons would allow these limitations to be addressed.**\n",
        "\n",
        " > **The second theoretical misunderstanding came from the implementation of neural networks.  In theory, adding just one extra layer of neurons was enough to allow any mathematical function was enough to allow any mathematical function to be approximated with these neural networks, but in practice such networks were often too big and too slow to be useful.**\n",
        "\n",
        "6. What is a GPU?\n",
        "> **Graphics Processing Unit(GPU).  Also known as a *graphics card*. A special kind of processor in your computer that can handle thousands of single tasks at the same time.**\n",
        "\n",
        "7. Open a notebook and execute a cell containing: 1+1. What happens?\n",
        "> **Running a cell executes the instructions in the cell and the output, 2 in this example, is shown directly below the executed cell.**\n",
        "\n",
        "8. Follow through each cell of the stripped version of the notebook for this chapter. Before executing each cell, guess what will happen.\n",
        "> **Running each cell executes the instructions in the cell and shows the results in the cell right below the executed cell.**\n",
        "\n",
        "9. Complete the Jupyter Notebook online appendix.\n",
        " > **Go to https://oreil.ly/9uPZe to complete this. Make sure to go through this and learn the shortcuts and tricks towards the bottom of the page.**\n",
        "10. Why is it hard to use a traditional computer program to recognize images in a photo?\n",
        "> **When we write a regular program, we are able to think about the process to complete the task and then translate them into code. We would need to tell the computer the exact steps required to solve a problem in detail. Recognizing objects in a photo is tricky. What are the steps that we need to recognize an object in a picture?**\n",
        "11. What did Samuel mean by \"weight assignment\"?\n",
        "> **Samuel means that by \"weight assignment\" they are variables and we can assign values to them.  These weights are the program's values that define how the program will operate.**\n",
        "12. What term do we normally use in deep learning for what Samuel called \"weights\"? \n",
        "> **What Samuel called \"weights\" are generally referred to as model *parameters.* The term *weight* now is reserved for a particular type of model parameter.**\n",
        "13. Draw a picture that summarizes Samuel's view of a machine learning model.\n",
        "> **See above image at the top of the page for Samuel's view of a machine learning model.**\n",
        "14. Why is it hard to understand why a deep learning model makes a particular prediction?\n",
        "> **It is hard because it is not obvious what the deep model looks like for any given problem such as vision.  This is in contrast to a checkers program where we have strategies encoded, search mechanism, and varied weights depending on the move and checkerboard area.**\n",
        "15. What is the name of the theorem that shows that a neural network can solve any mathematical problem to any level of accuracy?\n",
        "> **The *universal approximation theorem* shows that this function can solve any problem to any level of accuracy, in theory.**\n",
        "16. What do you need in order to train a model?\n",
        "> **Fundamentals for training a deep learning model:**\n",
        "  *   **A model cannot be created without data.**\n",
        "  *   **A model can learn to operate on only the patterns seen in the input data used to train it.** \n",
        "  *   **This learning approach creates only *predictions*, not recommended *actions*.**\n",
        "  *   **It not enough to have just examples of input data.  We need *labels* for that data.  This means we need to have a label on each picture telling the computer what it is, such as picture of a cat labeled as a cat or dog picture labeled as a dog.**\n",
        "17. How could a feedback loop impact the rollout of a predictive policing model?\n",
        "> **A *positive feedback loop* can impact the rollout of a predictive policing model.  When the model gets used more, the more biased the data becomes.  This causes the model to be more biased and the pattern repeats.  For example, a *predictive policing* model is made based on historical arrests.  This is not predicting crime but rather predicting arrests.  Law enforcement then use this model to focus on those areas predicted by the model thereby increasing arrests.  The additional arrests feedback into the model and makes the model more bias.**\n",
        "18. Do we always have to use 224×224-pixel images with the cat recognition model?\n",
        "> **224x244 is the standard size for historical reasons(old pretrained models require this size), but you can use any size.  IF you increase the size, you will often get a model with better results.  This is because the model has more details to focus on.  The downside of doing this causes the training to slow and increase memory consumption.  The opposite is true if the images are smaller.**\n",
        "19. What is the difference between classification and regression?\n",
        "   * **A *classification* model is a model that attempts to predict a class or category.  It's predicting from a number of discrete possiblities, such as \"dog\" or \"cat\".**\n",
        "   * **A *regression model* is a model that attempts to predict one or more numeric quantities, such as temperature or a location.**\n",
        "\n",
        "20. What is a validation set? What is a test set? Why do we need them?\n",
        " * **A *validation set* is a set of data held out from training, used only for measuring how good the model is.  Since we see the validation set, we can indirectly influence the model as we explore and adjust hyperparameter values.  This has the potential to allow for overfitting the validation data through human trial and error and exploration.**\n",
        " * **A *test set* is another level of highly reserved data.  This is different from the validation set because it is not used to improve the model. The test data needs to be totally hidden and is only used to evaluate the model at the very end.**  \n",
        "21. What will fastai do if you don't provide a validation set?\n",
        " > **Fastai will help you out and provide a default validation set for you. By default, fastai will set valid_pct to 0.2 which means it will hold out 20% of the data and not use it for training the model.**\n",
        "22. Can we always use a random sample for a validation set? Why or why not?\n",
        "> **No, when training it is helpful to set a random seed every time we run the code. This will tell fastai to give the same validation set every time we run it.  If then we change our model and retrain it, we know that any differences are due to changes in the model and not due to having a different random validation set.**\n",
        "23. What is overfitting? Provide an example.\n",
        "> **When training a model in such a way that it *remembers* specific features of the input data, rather than generalizing well to data not seen during training.  The model then memorizes what it has already seen and then it makes poor predictions about new images.**. \n",
        "\n",
        "24. What is a metric? How does it differ from \"loss\"?\n",
        "> **A metric is a fucntion that measures the quality of the model's predictions using the validation set, and will be printed at the end of each epoch.  The purpose of *loss* is to define a \"measure of performance\" that the training system can use to update the weights automatically.  The loss is a choice that is easy for stochastic gradient descent to use.  A metric is defined for human consumption that is easy to understand and matches closely what you want your model to do.**\n",
        "25. How can pretrained models help?\n",
        "> **Pretrained models can help becuase they are the *most* important method we have to allow us to train more accurate models, more quickly, weith less data and less time and money.**\n",
        "26. What is the \"head\" of a model?\n",
        "> **The \"head\" of a pretrained model is the last layer.  The last layer is specifically customized to the original training task. We remove the last layer with cnn_learner and replace it with one or more new layers with randomized weights of an appropriate size for the dataset we are working with.**\n",
        "27. What kinds of features do the early layers of a CNN find? How about the later layers?\n",
        "> **In the early layers, a CNN finds features such as diagonal, horizontal, and vertical edges, as well as various gradients.  As we go up the layers, the model creates feature detectors that look for corners, repeating lines, circles, and other simple patterns.  These are built upon the basic building blocks from the earlier layers.  As we get into the later layers, the model is able to identify and match with higher-level semantic components, such as car wheels, text, and flower petals.**\n",
        "28. Are image models only useful for photos?\n",
        "> **No, they can be used for many other applications other than images because a lot of other things can be represented as images.  For example, a sound can be converted to a spectogram.  A time series can be converted into an image by plotting the time series on a graph. In general, a small number of general approaches in deep learning can go a long way if you are creative in how you represent your data.**\n",
        "29. What is an \"architecture\"?\n",
        "> **Every model starts with a choice of \"architecture*, which is the *template* of the model that we're trying to fit. This is the actual mathmatical funcion that we're passing the input data and paramters to.**  \n",
        "30. What is segmentation?\n",
        "> **Creating a model that can recognize the content of every individual pixel in an image**\n",
        "31. What is y_range used for? When do we need it?\n",
        "> **The y_range parameter is used to tell fastai what range our target has when predicting a continous number, rather an a category.**  \n",
        "32. What are \"hyperparameters\"?\n",
        "> **They are parameters about parameters, since they are the higher-level choices that govern the meaning of the weight parameters**\n",
        "33. What's the best way to avoid failures when using AI in an organization?\n",
        "> **The best way to avoid failures when using AI in an organization is to use a *test set.*  If using an external vendor, we hold out test data that the vendor never gets to see.  They we check thier model on the test data we held out using a metric we choose based on what actually matters to us in practice.  We then decide what level of performance is adequate**"
      ],
      "metadata": {
        "id": "-I9XJhoz7mx_"
      }
    }
  ]
}