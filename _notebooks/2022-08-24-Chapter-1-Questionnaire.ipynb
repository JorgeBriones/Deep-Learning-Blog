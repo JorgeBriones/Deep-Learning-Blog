{
  "nbformat": 4,
  "nbformat_minor": 0,
  "metadata": {
    "colab": {
      "name": "Chapter_1_Questionnaire.ipynb",
      "provenance": [],
      "collapsed_sections": []
    },
    "kernelspec": {
      "name": "python3",
      "display_name": "Python 3"
    },
    "language_info": {
      "name": "python"
    }
  },
  "cells": [
    {
      "cell_type": "markdown",
      "source": [
        "# \"Chapter 1 Questionaire\"\n",
        "> \"Here are my answers for Chapter 1 from the book Deep Learing for Coders with Fastai & Pytorch\"\n",
        "\n",
        "- toc:true- branch: master\n",
        "- badges: true\n",
        "- comments: false\n",
        "- author: Jorge Briones\n",
        "- categories: [fastpages, jupyter]"
      ],
      "metadata": {
        "id": "L-HeMdmMg8u7"
      }
    },
    {
      "cell_type": "markdown",
      "source": [
        "\n",
        "\n",
        "---\n",
        "\n"
      ],
      "metadata": {
        "id": "cTuGoc_yhZxt"
      }
    },
    {
      "cell_type": "markdown",
      "source": [
        "# **Chapter 1 Questionnaire**"
      ],
      "metadata": {
        "id": "il_yJgOA3bFE"
      }
    },
    {
      "cell_type": "markdown",
      "source": [
        "1. Do you need these for deep learning?\n",
        "*   Lots of Math T/F: **False, High school math is sufficient.**\n",
        "*   Lots of Data T/F: **False, Record breaking results have been seen with <50 items of data.** \n",
        "*   Lots of expensive computers T/F: **You can get what you need for state of the art work for free.**\n",
        "*   A PhD T/F:  **False, no formal training is necessary.**\n",
        "\n",
        "  \n",
        "2. Name five areas where deep learning is now the best in the world.\n",
        " > **Natural language processing, computer vision, medicine, biology, image generation.  Other areas also include recommendation systems, playing games, robotics, and other applications such as financial and logistical forecasting, text to speech and much more.**\n",
        "\n",
        " \n",
        "3. What was the name of the first device that was based on the principle of the artificial neuron?\n",
        "> **A psychologist names Frank Rosentblatt worked on building the first artifical neuron device called the Mark I Perceptron.**\n",
        "\n",
        "\n",
        "4. Based on the book of the same name, what are the requirements for parallel distributed processing (PDP)?\n",
        "> **The requirements for parallel distrubuted processing require the following:**\n",
        "   * **A set of *processing units*** \n",
        "   * **A *state of activation***  \n",
        "   * **An *output function* for each unit**\n",
        "   * **A *pattern of connectivity* among units**\n",
        "   * **A *propagation rule* for propagating patterns of activities through the network of connectivities**\n",
        "   * **An *activation rule* for combining the inputs impinging on a unit with the current state of that unit to produce an output for the unit**\n",
        "   * **A *learning rule* whereby patterns of connectivity are modified by experience**\n",
        "   * **An *environment* within which the systems must operate**\n",
        "\n",
        "\n",
        "5. What were the two theoretical misunderstandings that held back the field of neural networks?\n",
        "> **The first theoretical misunderstanding came from the global academic community who essentially gave up on neural networks.  This happened because of the misunderstanding of the book *Perceptrons* (MIT Press) by Marvin Minsky and Seymour Papert.  Minsky and Papert showed that that a single layer of perceptrons was unable to learn some simple but critical mathematical functions(such as XOR).  This is what the community took away from the book, what they missed was that Minsky and Papert in the book showed that using multiple layers of the perceptrons would allow these limitations to be addressed.**\n",
        "\n",
        " >**The second theoretical misunderstanding came from the implementation of neural networks.  In theory, adding just one extra layer of neurons was enough to allow any mathematical function was enough to allow any mathematical function to be approximated with these neural networks, but in practice such networks were often too big and too slow to be useful.**\n",
        "\n",
        "6. What is a GPU?\n",
        "> **Graphics Processing Unit(GPU).  Also known as a *graphics card*. A special kind of processor in your computer that can handle thousands of single tasks at the same time.**\n",
        "\n",
        "7. Open a notebook and execute a cell containing: 1+1. What happens?\n",
        ">**Running a cell executes the instructions in the cell and the output, 2 in this example, is shown directly below the executed cell.**\n",
        "\n",
        "8. Follow through each cell of the stripped version of the notebook for this chapter. Before executing each cell, guess what will happen.\n",
        ">**Running each cell executes the instructions in the cell and shows the results in the cell right below the executed cell.**\n",
        "\n",
        "9. Complete the Jupyter Notebook online appendix.\n",
        "10. Why is it hard to use a traditional computer program to recognize images in a photo?\n",
        "11. What did Samuel mean by \"weight assignment\"?\n",
        "12. What term do we normally use in deep learning for what Samuel called \"weights\"?\n",
        "13. Draw a picture that summarizes Samuel's view of a machine learning model.\n",
        "14.Why is it hard to understand why a deep learning model makes a particular prediction?\n",
        "15. What is the name of the theorem that shows that a neural network can solve any mathematical problem to any level of accuracy?\n",
        "16. What do you need in order to train a model?\n",
        "17. How could a feedback loop impact the rollout of a predictive policing model?\n",
        "18. Do we always have to use 224×224-pixel images with the cat recognition model?\n",
        "19. What is the difference between classification and regression?\n",
        "20. What is a validation set? What is a test set? Why do we need them?\n",
        "21. What will fastai do if you don't provide a validation set?\n",
        "22. Can we always use a random sample for a validation set? Why or why not?\n",
        "23. What is overfitting? Provide an example.\n",
        "24. What is a metric? How does it differ from \"loss\"?\n",
        "25. How can pretrained models help?\n",
        "26. What is the \"head\" of a model?\n",
        "27. What kinds of features do the early layers of a CNN find? How about the later layers?\n",
        "28. Are image models only useful for photos?\n",
        "29. What is an \"architecture\"?\n",
        "30. What is segmentation?\n",
        "31. What is y_range used for? When do we need it?\n",
        "32. What are \"hyperparameters\"?\n",
        "33. What's the best way to avoid failures when using AI in an organization?"
      ],
      "metadata": {
        "id": "-I9XJhoz7mx_"
      }
    },
    {
      "cell_type": "markdown",
      "source": [],
      "metadata": {
        "id": "0Y1s82MohXJG"
      }
    }
  ]
}