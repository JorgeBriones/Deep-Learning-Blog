{
  "nbformat": 4,
  "nbformat_minor": 0,
  "metadata": {
    "colab": {
      "name": "Untitled1.ipynb",
      "provenance": []
    },
    "kernelspec": {
      "name": "python3",
      "display_name": "Python 3"
    },
    "language_info": {
      "name": "python"
    }
  },
  "cells": [
    {
      "cell_type": "markdown",
      "source": [
        "# \"This is a test blog in a notebook\"\n",
        "> \"Awesome short summary\"\n",
        "\n",
        "- toc: false\n",
        "- branch: master\n",
        "- badges: true\n",
        "- comments: true\n",
        "- categories: [fastpages, jupyter]\n",
        "- image: images/some_folder/your_image.png\n",
        "- hide: false\n",
        "- search_exclude: true\n",
        "- metadata_key1: metadata_value1\n",
        "- metadata_key2: metadata_value2\n"
      ],
      "metadata": {
        "id": "1fpzhthz0lTd"
      }
    },
    {
      "cell_type": "code",
      "execution_count": 10,
      "metadata": {
        "colab": {
          "base_uri": "https://localhost:8080/"
        },
        "id": "c12vkM8_0j-c",
        "outputId": "62d8674c-1143-4fbd-97b5-4fd3e270358c"
      },
      "outputs": [
        {
          "output_type": "execute_result",
          "data": {
            "text/plain": [
              "2"
            ]
          },
          "metadata": {},
          "execution_count": 10
        }
      ],
      "source": [
        "1 + 1"
      ]
    },
    {
      "cell_type": "markdown",
      "source": [
        "Another text block!\n"
      ],
      "metadata": {
        "id": "AXEahhjI-kw8"
      }
    }
  ]
}