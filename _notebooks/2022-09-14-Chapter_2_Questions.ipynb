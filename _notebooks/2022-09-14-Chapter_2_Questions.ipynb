{
  "nbformat": 4,
  "nbformat_minor": 0,
  "metadata": {
    "colab": {
      "provenance": [],
      "collapsed_sections": []
    },
    "kernelspec": {
      "name": "python3",
      "display_name": "Python 3"
    },
    "language_info": {
      "name": "python"
    }
  },
  "cells": [
    {
      "cell_type": "markdown",
      "source": [
        "# \"Chapter 2 Questionnaire\"\n",
        "> \"My answers for Chapter 2 Questionnaire\"\n",
        "\n",
        "- toc: false\n",
        "- branch: master\n",
        "- badges: false\n",
        "- comments: false\n",
        "- categories: [fastpages, jupyter]\n",
        "- image: images/some_folder/your_image.png\n",
        "- hide: false\n",
        "- search_exclude: true\n",
        "- metadata_key1: metadata_value1\n",
        "- metadata_key2: metadata_value2"
      ],
      "metadata": {
        "id": "ctU4LLAb-Nx6"
      }
    },
    {
      "cell_type": "markdown",
      "source": [
        "1.  Where do text models currently have a major deficiency?\n",
        "> **Text models are not good at generating *correct* responses.  We don’t have a reliable way to combine a knowledge base with a deep learning model for generating a correct language response.  An example would be medical language responses.  It can be easy to create content that appears to a layman to be compelling, but is actually is entirely incorrect.**  \n",
        "2. What are possible negative societal implications of text generation models?\n",
        ">\t**A possible negative implication is that context-appropriate, highly compelling responses on social media could be used at massive scale that is thousands of times greater than any troll farm previously seen and used to spread disinformation, create unrest, and encourage conflict.**\n",
        "\n",
        "3. In situations where a model might make mistakes, and those mistakes could be harmful, what is a good alternative to automating a process?\n",
        "> **An alternative to automating a process is that deep learning not be used as an entirely automated process, but as a part of a process in which the model and a human user interact closely.  This then helps the humans orders of magnitude become more productive than they would be with entirely manual methods and results in a more accurate processes than using a human alone.**\n",
        " \n",
        "4. What kind of tabular data is deep learning particularly good at?\n",
        "> **Deep learning is particularly good at analyzing time series and tabular data.  Deep learning greatly increases the variety of columns that you can include such as columns containing natural language(book titles, reviews, etc.) and hight cardinality categorical columns (large number of discrete choices such as zip code or product ID).**\n",
        "\n",
        "5. What's a key downside of directly using a deep learning model for recommendation systems?\n",
        "> **They have the downside that they tell you only which products a particular user might like, rather than what recommendations would be helpful for user.** \n",
        "6. What are the steps of the Drivetrain Approach?\n",
        "> **The basic idea is to start with considering your objective, then think about what actions you can take to meet that objective and what data you have (or can acquire) that can help, and then build a model that you can use to determine the best action to take to get the best results in terms of your objective.**  \n",
        "7. How do the steps of the Drivetrain Approach map to a recommendation system?\n",
        "> **The objective of a recommendation engine is to drive additional sales by surprising and delighting the customer with recommendations of items they would not have purchased without the recommendation.  The lever is the ranking of the recommendations.  New data must be collected to generate recommendations, that will cause new sales.  This will require conducting many randomized experiments in order to collect data about a wide range of of recommendations for a wide range of customers.  This is step that few organizations take; but without it, you don’t have the information you need to optimize recommendations based on your true objective(more sales)!.** \n",
        "8. Create an image recognition model using data you curate, and deploy it on the web.\n",
        "\n",
        "9. What is DataLoaders?\n",
        ">\t**Dataloaders is a thin class that just stores whatever DataLoader objects you pass to it and makes them available as train and valid. For fastai, it provides the data for your model.** \n",
        "10. What four things do we need to tell fastai to create DataLoaders?\n",
        "> **To turn our downloaded data into a DataLoaders object, we need to tell fast at least four things**\n",
        "> * **What kinds of data we are working with**\n",
        "> * **How to get the list of items**\n",
        "> * **How to label these items**\n",
        "> * **How to create the validation set**\n",
        "11. What does the splitter parameter to DataBlock do?\n",
        "> **The splitter parameter splits the data into training and validation sets.** \n",
        "12. How do we ensure a random split always gives the same validation set?\n",
        "> **We want to split our training and validation sets randomly.  However, we would like to have the same training/validation split each time we run this notebook, so we fix the random seed(computers don’t really know how to create random numbers at all, but simply create lists of numbers that look random; if you provide the same starting point for that list each time (called the seed) then you will get the exact same list each time).**\n",
        "\n",
        "13. What letters are often used to signify the independent and dependent variables?\n",
        "> **The independent variable is often referred to as x, and the dependent variable is often referred to as y.**\n",
        "\n",
        "14. What's the difference between the crop, pad, and squish resize approaches? When might you choose one over the others?\n",
        "> **The crop on images removes some of the features that allow us to perform recognition.  The pad, pads the images with zeros(black) leading to empty space which wastes computations for our model.  The squish or stretch may cause the image to end up as unrealistic shapes, leading the model to learn that things look different from how they actually are.  In practice we randomly select part of the image and then crop to just that part.  On each epoch(one complete pass through all of the images in the dataset), we randomly select a different part of the image.  This causes our model to learn to focus on, and recognize, different features in our images.  It also reflects how images work in the real world: different photos of the same thing may be framed in slightly different ways.**\n",
        "\n",
        "15. What is data augmentation? Why is it needed?\n",
        "> **Data augmentation refers to creating random variations of our input data, such that they appear different but do not change the meaning of the data.  Examples of common data augmentation techniques for images are rotation, flipping, perspective, warping, brightness changes, and contrast changes.   Untrained neural networks knows nothing about how images behave.  It doesn’t even recognize that when an object is rotated by one degree, it is still a picture of the same thing!  Training a neural network with examples of images in which the objects are in slightly different places and are slightly different sizes helps it understand the basic concept of what an object is, and how it can be represented in an image.**\n",
        "16. What is the difference between item_tfms and batch_tfms?\n",
        "> * **Item transforms is code (item_tfms) that runs on each individual item, whether it be an image, category, or so forth.**  \n",
        "> * **Batch transforms is code that run on the GPU and run on an entire batch of images that are the same size.**\n",
        "17. What is a confusion matrix? \n",
        "> **A confusion matrix helps us understand how the model is performing. The rows represent all the black, grizzly, and teddy bears in the dataset.  The columns represent the images that the model predicted as black, grizzly, and teddy bears, respectively.  The diagonal  one the matrix shows the images that were classified correctly, and the off-diagonal cells represent those that were classified incorrectly.**  \n",
        "18. What does export save?\n",
        "> **The export method saves the architecture and the trained parameters of the model.  It also saves the definition of how to create your DataLoaders.**  \n",
        "19. What is it called when we use a model for getting predictions, instead of training?\n",
        "> **When we use a model for getting predictions, instead of training, we call it inference.**\n",
        "20. What are IPython widgets?\n",
        ">\t**IPython widgets are GUI components that bring together JavaScript and Python functionality in a web browser, and can be created and used within a Jupiter notebook.**  \n",
        "21. When might you want to use CPU for deployment? When might GPU be better?\n",
        "> **We do not need a GPU to serve a model in production.  As an example, an image classification model  will use a single CPU since it is more cost effective since you would normally be classifying one user’s image at a time.   A GPU might be better if you wait for multiple users to submit their images, batch them up, and process them all at once.  This will cause the users to wait for the results so it may be best for a high volume site.**  \n",
        "22. What are the downsides of deploying your app to a server, instead of to a client (or edge) device such as a phone or PC?\n",
        ">\t**Your application will require a network connection, and there will be some lately each time the model is called.  If your application uses sensitive data, your users may be concerned about an approach that sends that data to a remote server.**  \n",
        "23. What are three examples of problems that could occur when rolling out a bear warning system in practice?\n",
        "> * **Working with video data instead of images**\n",
        "> * **Handling nighttime images, which may not appear in this dataset**\n",
        "> * **Dealing with low-resolution camera images**\n",
        "> * **Ensuring results are returned fast enough to be useful in practice**\n",
        "> *\t**Recognizing bears in positions that are rarely seen in photos that people post online (for example from behind, partially covered by bushes, or a long way away from the camera)**\n",
        "\n",
        "24. What is \"out-of-domain data”?\n",
        "> **Out of domain data means that the data that our model sees in production is very different from what it saw during training.  There isn’t a complete technical solution to this problem; instead, we have to be careful about our approach to rolling out the technology.**  \n",
        "25. What is \"domain shift”?\n",
        "> **A common problem whereby the type of data that our model sees changes over time.  For instance, an insurance company may use a deep learning model as part of its pricing and risk algorithm, but over time the types of customers the company attracts and the types of risks it represents may change so much that the original training data is no longer relevant.**\n",
        "26. What are the three steps in the deployment process?\n",
        "> * **Step 1 - Manual Process**\n",
        ">> * **Run model in parallel**\n",
        ">> * **Humans check all predictions**\n",
        "> * **Step 2 - Limited Scope Deployment**\n",
        ">> * **Careful human supervision**\n",
        ">> * **Time or geography limited**\n",
        "> * **Step 3 - Gradual expansion**\n",
        ">> * **Good reporting systems needed**\n",
        ">> * **Consider what could go wrong.**\n",
        " "
      ],
      "metadata": {
        "id": "ZeXjZCGuz4dB"
      }
    }
  ]
}