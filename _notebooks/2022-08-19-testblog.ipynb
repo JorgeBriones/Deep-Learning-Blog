{
  "nbformat": 4,
  "nbformat_minor": 0,
  "metadata": {
    "colab": {
      "name": "Untitled1.ipynb",
      "provenance": []
    },
    "kernelspec": {
      "name": "python3",
      "display_name": "Python 3"
    },
    "language_info": {
      "name": "python"
    }
  },
  "cells": [
    {
      "cell_type": "markdown",
      "source": [
        "This is blog test!\n"
      ],
      "metadata": {
        "id": "1fpzhthz0lTd"
      }
    },
    {
      "cell_type": "code",
      "execution_count": null,
      "metadata": {
        "colab": {
          "base_uri": "https://localhost:8080/",
          "height": 130
        },
        "id": "c12vkM8_0j-c",
        "outputId": "5e16be48-e37a-450f-c363-718a178756e8"
      },
      "outputs": [
        {
          "output_type": "error",
          "ename": "SyntaxError",
          "evalue": "ignored",
          "traceback": [
            "\u001b[0;36m  File \u001b[0;32m\"<ipython-input-9-7df707042039>\"\u001b[0;36m, line \u001b[0;32m11\u001b[0m\n\u001b[0;31m    urls,data = set(),{'next':1}\u001b[0m\n\u001b[0m       ^\u001b[0m\n\u001b[0;31mSyntaxError\u001b[0m\u001b[0;31m:\u001b[0m invalid syntax\n"
          ]
        }
      ],
      "source": [
        "# \"Test blog post Aug 19, 2022\"\n",
        "> \"Awesome summary today\"\n",
        "\n",
        "- toc: false\n",
        "- branch: master\n",
        "- badges: true\n",
        "- comments: true\n",
        "- categories: [fastpages, jupyter]\n",
        "- image: images/some_folder/your_image.png\n",
        "- hide: false\n",
        "- search_exclude: true\n",
        "- metadata_key1: metadata_value1\n",
        "- metadata_key2: metadata_value2"
      ]
    },
    {
      "cell_type": "markdown",
      "source": [
        "Another text block!\n"
      ],
      "metadata": {
        "id": "AXEahhjI-kw8"
      }
    }
  ]
}