{
  "nbformat": 4,
  "nbformat_minor": 0,
  "metadata": {
    "colab": {
      "name": "Notebook Blog Tips and Tricks.ipynb",
      "provenance": [],
      "collapsed_sections": []
    },
    "kernelspec": {
      "name": "python3",
      "display_name": "Python 3"
    },
    "language_info": {
      "name": "python"
    }
  },
  "cells": [
    {
      "cell_type": "markdown",
      "source": [
        "# \"Notebook Blog Tips and Tricks\"\n",
        "> \"Here's a collection of tips and tricks that I found that work when using notebooks to blog.\"\n",
        "\n",
        "- toc: false\n",
        "- branch: master\n",
        "- badges: true\n",
        "- comments: false\n",
        "- categories: [fastpages, jupyter]\n",
        "- image: images/some_folder/your_image.png\n",
        "- hide: false\n",
        "- search_exclude: true\n",
        "- metadata_key1: metadata_value1\n",
        "- metadata_key2: metadata_value2"
      ],
      "metadata": {
        "id": "dUd8B4hnaSPb"
      }
    },
    {
      "cell_type": "markdown",
      "source": [
        "\n",
        "\n",
        "---\n",
        "\n"
      ],
      "metadata": {
        "id": "mAixQc5GghB8"
      }
    },
    {
      "cell_type": "markdown",
      "source": [
        "1.  Start by looking at the default Fastpages Notebook Blog Post provided by Fastai.  It's a tutorial with many helpful tips and tricks."
      ],
      "metadata": {
        "id": "5gHGim3ubNV2"
      }
    },
    {
      "cell_type": "markdown",
      "source": [
        "2.  Using the default indent in notebook doesn't always work. This should work, however what you see in the right side preview box does not always translate to a rendered blog post.  \n",
        "> This is indented once.\n",
        ">> This is indented twice.\n",
        "\n",
        "> *This is indented once and italicized.*\n",
        "\n",
        "> **This is indented once and bolded.**\n",
        "\n",
        "> **This is indented once, bolded, and has one *italized* word in this sentence.**\n",
        "\n"
      ],
      "metadata": {
        "id": "pPQ9o2T_bwHS"
      }
    },
    {
      "cell_type": "markdown",
      "source": [
        "The original cell contents:\n",
        "\n",
        "![](my_icons/cell.png)"
      ],
      "metadata": {
        "id": "lcAF2rhchw_m"
      }
    },
    {
      "cell_type": "markdown",
      "source": [
        "Here's another test.\n",
        "> Indent once.\n",
        ">> Indent twice.  \n",
        "\n",
        "> Indent once and *italicized* one word. \n",
        "\n",
        "> **Indent once, bold the sentence, and *italicized* one word.**\n",
        "\n",
        "> *Italicized the sentence, **bold** one word.*\n",
        "\n",
        "> It looks like we need to have a line space between sentences to break out the scope of the typography that was applied in the previous sentence.  "
      ],
      "metadata": {
        "id": "l5swyr0Emh-c"
      }
    },
    {
      "cell_type": "markdown",
      "source": [
        "Here's another test but this time, I'm doing the opposite.\n",
        "> Indent once.\n",
        ">> Indent twice.\n",
        "\n",
        "No indent **bolded** word.  \n",
        "\n",
        "> Indent once and **bolded** word.\n",
        "\n",
        "> *Indented once and italicized sentence.*\n",
        "\n",
        "> *Indented once, italicized sentence, and one **bolded** word.*\n"
      ],
      "metadata": {
        "id": "KWEKYcLlUHVM"
      }
    }
  ]
}