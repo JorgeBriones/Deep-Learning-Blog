{
  "nbformat": 4,
  "nbformat_minor": 0,
  "metadata": {
    "colab": {
      "name": "Notebook Blog Tips and Tricks.ipynb",
      "provenance": [],
      "collapsed_sections": []
    },
    "kernelspec": {
      "name": "python3",
      "display_name": "Python 3"
    },
    "language_info": {
      "name": "python"
    }
  },
  "cells": [
    {
      "cell_type": "markdown",
      "source": [
        "# \"Notebook Blog Tips and Tricks\"\n",
        "> \"Here's a collection of tips and tricks that I found that work when using notebooks to blog.\"\n",
        "\n",
        "- toc: false\n",
        "- branch: master\n",
        "- badges: true\n",
        "- comments: false\n",
        "- categories: [fastpages, jupyter]\n",
        "- image: images/some_folder/your_image.png\n",
        "- hide: false\n",
        "- search_exclude: true\n",
        "- metadata_key1: metadata_value1\n",
        "- metadata_key2: metadata_value2"
      ],
      "metadata": {
        "id": "dUd8B4hnaSPb"
      }
    },
    {
      "cell_type": "markdown",
      "source": [
        "\n",
        "\n",
        "---\n",
        "\n"
      ],
      "metadata": {
        "id": "mAixQc5GghB8"
      }
    },
    {
      "cell_type": "markdown",
      "source": [
        "1.  Start by looking at the default Fastpages Notebook Blog Post provided by Fastai.  It's a tutorial with many helpful tips and tricks."
      ],
      "metadata": {
        "id": "5gHGim3ubNV2"
      }
    },
    {
      "cell_type": "markdown",
      "source": [
        "Having an issue with typography.  Making this notebook on Google Colab renders correct, but when I render it with Fastpages, some of the typography is not applied correctly.  \n",
        "\n",
        "> *This is indent once and should be italizicized.  However, it looks like it get rendered as normal text*.\n",
        ">> Indent twice.  This should be no italics, but it is!\n",
        "\n",
        "No indent **bolded** word.\n",
        "No indent *italicized* word.\n",
        "No indent ***bolded and italicized*** word.  \n",
        "\n",
        "> Indent once and **bolded** word. Interesting, this sentence gets italicized.\n",
        "\n",
        "> *Indented once and italicized sentence. This actually gets rendered without italics.*\n",
        "\n",
        "> *Indented once, italicized sentence, and one **bolded** word. This also gets rendered without italics.  Let's see if this *word* gets italicized*\n",
        "\n",
        "It looks like whenever we indent, it automatically applies italics to the sentence.  \n",
        "\n",
        "Also when indented, applying italics does the opposite, it removes the italics.\n"
      ],
      "metadata": {
        "id": "KWEKYcLlUHVM"
      }
    }
  ]
}